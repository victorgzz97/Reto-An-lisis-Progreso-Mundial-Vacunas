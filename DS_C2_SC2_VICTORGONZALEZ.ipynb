{
  "nbformat": 4,
  "nbformat_minor": 0,
  "metadata": {
    "colab": {
      "name": "Reto Análisis Progreso Mundial Vacunaciones.ipynb",
      "provenance": []
    },
    "kernelspec": {
      "name": "python3",
      "display_name": "Python 3"
    },
    "language_info": {
      "name": "python"
    }
  },
  "cells": [
    {
      "cell_type": "code",
      "execution_count": 1,
      "metadata": {
        "id": "Zw6aJzvS3iDj"
      },
      "outputs": [],
      "source": [
        "import numpy as np\n",
        "import pandas as pd"
      ]
    },
    {
      "cell_type": "code",
      "source": [
        "# Extraer información del archivo\n",
        "cv=pd.read_csv('/content/country_vaccinations.csv',parse_dates=['date'])"
      ],
      "metadata": {
        "id": "Ki97Q_dD3qiZ"
      },
      "execution_count": 4,
      "outputs": []
    },
    {
      "cell_type": "code",
      "source": [
        "# Estructura y tipos de datos\n",
        "cv.info()"
      ],
      "metadata": {
        "colab": {
          "base_uri": "https://localhost:8080/"
        },
        "id": "4SgHIVvd31rG",
        "outputId": "7626e364-5523-4448-c126-bd5fb6e9f64d"
      },
      "execution_count": 5,
      "outputs": [
        {
          "output_type": "stream",
          "name": "stdout",
          "text": [
            "<class 'pandas.core.frame.DataFrame'>\n",
            "RangeIndex: 3081 entries, 0 to 3080\n",
            "Data columns (total 15 columns):\n",
            " #   Column                               Non-Null Count  Dtype         \n",
            "---  ------                               --------------  -----         \n",
            " 0   country                              3081 non-null   object        \n",
            " 1   iso_code                             2833 non-null   object        \n",
            " 2   date                                 3081 non-null   datetime64[ns]\n",
            " 3   total_vaccinations                   1980 non-null   float64       \n",
            " 4   people_vaccinated                    1643 non-null   float64       \n",
            " 5   people_fully_vaccinated              1016 non-null   float64       \n",
            " 6   daily_vaccinations_raw               1642 non-null   float64       \n",
            " 7   daily_vaccinations                   2960 non-null   float64       \n",
            " 8   total_vaccinations_per_hundred       1980 non-null   float64       \n",
            " 9   people_vaccinated_per_hundred        1643 non-null   float64       \n",
            " 10  people_fully_vaccinated_per_hundred  1016 non-null   float64       \n",
            " 11  daily_vaccinations_per_million       2960 non-null   float64       \n",
            " 12  vaccines                             3081 non-null   object        \n",
            " 13  source_name                          3081 non-null   object        \n",
            " 14  source_website                       3081 non-null   object        \n",
            "dtypes: datetime64[ns](1), float64(9), object(5)\n",
            "memory usage: 361.2+ KB\n"
          ]
        }
      ]
    },
    {
      "cell_type": "code",
      "source": [
        "# Vacunas aplicadas de cada compañía\n",
        "cv[['vaccines','total_vaccinations']].groupby('vaccines').sum()"
      ],
      "metadata": {
        "colab": {
          "base_uri": "https://localhost:8080/",
          "height": 645
        },
        "id": "clR_0QJC9FTG",
        "outputId": "1f238f57-95e8-414b-eec6-b5894f334daf"
      },
      "execution_count": 6,
      "outputs": [
        {
          "output_type": "execute_result",
          "data": {
            "text/plain": [
              "                                                    total_vaccinations\n",
              "vaccines                                                              \n",
              "Covaxin, Oxford/AstraZeneca                               1.064500e+08\n",
              "Moderna, Oxford/AstraZeneca, Pfizer/BioNTech              3.268787e+08\n",
              "Moderna, Pfizer/BioNTech                                  1.118616e+09\n",
              "Oxford/AstraZeneca                                        3.366723e+06\n",
              "Oxford/AstraZeneca, Pfizer/BioNTech                       5.718647e+08\n",
              "Oxford/AstraZeneca, Pfizer/BioNTech, Sinopharm/...        9.920366e+07\n",
              "Oxford/AstraZeneca, Sinopharm/Beijing                     8.006937e+06\n",
              "Oxford/AstraZeneca, Sinopharm/Beijing, Sputnik V          2.722800e+04\n",
              "Oxford/AstraZeneca, Sinovac                               5.725755e+07\n",
              "Oxford/AstraZeneca, Sputnik V                             6.500000e+04\n",
              "Pfizer/BioNTech                                           3.900395e+07\n",
              "Pfizer/BioNTech, Sinopharm/Beijing                        6.004334e+06\n",
              "Pfizer/BioNTech, Sinopharm/Beijing, Sputnik V             7.801974e+06\n",
              "Pfizer/BioNTech, Sinovac                                  1.260606e+07\n",
              "Sinopharm/Beijing                                         1.695970e+05\n",
              "Sinopharm/Beijing, Sinopharm/Wuhan, Sinovac               1.584870e+08\n",
              "Sinovac                                                   7.123842e+07\n",
              "Sputnik V                                                 1.519488e+07"
            ],
            "text/html": [
              "\n",
              "  <div id=\"df-78a0b0a2-bcd6-47e8-8330-ec4300bc0e22\">\n",
              "    <div class=\"colab-df-container\">\n",
              "      <div>\n",
              "<style scoped>\n",
              "    .dataframe tbody tr th:only-of-type {\n",
              "        vertical-align: middle;\n",
              "    }\n",
              "\n",
              "    .dataframe tbody tr th {\n",
              "        vertical-align: top;\n",
              "    }\n",
              "\n",
              "    .dataframe thead th {\n",
              "        text-align: right;\n",
              "    }\n",
              "</style>\n",
              "<table border=\"1\" class=\"dataframe\">\n",
              "  <thead>\n",
              "    <tr style=\"text-align: right;\">\n",
              "      <th></th>\n",
              "      <th>total_vaccinations</th>\n",
              "    </tr>\n",
              "    <tr>\n",
              "      <th>vaccines</th>\n",
              "      <th></th>\n",
              "    </tr>\n",
              "  </thead>\n",
              "  <tbody>\n",
              "    <tr>\n",
              "      <th>Covaxin, Oxford/AstraZeneca</th>\n",
              "      <td>1.064500e+08</td>\n",
              "    </tr>\n",
              "    <tr>\n",
              "      <th>Moderna, Oxford/AstraZeneca, Pfizer/BioNTech</th>\n",
              "      <td>3.268787e+08</td>\n",
              "    </tr>\n",
              "    <tr>\n",
              "      <th>Moderna, Pfizer/BioNTech</th>\n",
              "      <td>1.118616e+09</td>\n",
              "    </tr>\n",
              "    <tr>\n",
              "      <th>Oxford/AstraZeneca</th>\n",
              "      <td>3.366723e+06</td>\n",
              "    </tr>\n",
              "    <tr>\n",
              "      <th>Oxford/AstraZeneca, Pfizer/BioNTech</th>\n",
              "      <td>5.718647e+08</td>\n",
              "    </tr>\n",
              "    <tr>\n",
              "      <th>Oxford/AstraZeneca, Pfizer/BioNTech, Sinopharm/Beijing, Sinopharm/Wuhan, Sputnik V</th>\n",
              "      <td>9.920366e+07</td>\n",
              "    </tr>\n",
              "    <tr>\n",
              "      <th>Oxford/AstraZeneca, Sinopharm/Beijing</th>\n",
              "      <td>8.006937e+06</td>\n",
              "    </tr>\n",
              "    <tr>\n",
              "      <th>Oxford/AstraZeneca, Sinopharm/Beijing, Sputnik V</th>\n",
              "      <td>2.722800e+04</td>\n",
              "    </tr>\n",
              "    <tr>\n",
              "      <th>Oxford/AstraZeneca, Sinovac</th>\n",
              "      <td>5.725755e+07</td>\n",
              "    </tr>\n",
              "    <tr>\n",
              "      <th>Oxford/AstraZeneca, Sputnik V</th>\n",
              "      <td>6.500000e+04</td>\n",
              "    </tr>\n",
              "    <tr>\n",
              "      <th>Pfizer/BioNTech</th>\n",
              "      <td>3.900395e+07</td>\n",
              "    </tr>\n",
              "    <tr>\n",
              "      <th>Pfizer/BioNTech, Sinopharm/Beijing</th>\n",
              "      <td>6.004334e+06</td>\n",
              "    </tr>\n",
              "    <tr>\n",
              "      <th>Pfizer/BioNTech, Sinopharm/Beijing, Sputnik V</th>\n",
              "      <td>7.801974e+06</td>\n",
              "    </tr>\n",
              "    <tr>\n",
              "      <th>Pfizer/BioNTech, Sinovac</th>\n",
              "      <td>1.260606e+07</td>\n",
              "    </tr>\n",
              "    <tr>\n",
              "      <th>Sinopharm/Beijing</th>\n",
              "      <td>1.695970e+05</td>\n",
              "    </tr>\n",
              "    <tr>\n",
              "      <th>Sinopharm/Beijing, Sinopharm/Wuhan, Sinovac</th>\n",
              "      <td>1.584870e+08</td>\n",
              "    </tr>\n",
              "    <tr>\n",
              "      <th>Sinovac</th>\n",
              "      <td>7.123842e+07</td>\n",
              "    </tr>\n",
              "    <tr>\n",
              "      <th>Sputnik V</th>\n",
              "      <td>1.519488e+07</td>\n",
              "    </tr>\n",
              "  </tbody>\n",
              "</table>\n",
              "</div>\n",
              "      <button class=\"colab-df-convert\" onclick=\"convertToInteractive('df-78a0b0a2-bcd6-47e8-8330-ec4300bc0e22')\"\n",
              "              title=\"Convert this dataframe to an interactive table.\"\n",
              "              style=\"display:none;\">\n",
              "        \n",
              "  <svg xmlns=\"http://www.w3.org/2000/svg\" height=\"24px\"viewBox=\"0 0 24 24\"\n",
              "       width=\"24px\">\n",
              "    <path d=\"M0 0h24v24H0V0z\" fill=\"none\"/>\n",
              "    <path d=\"M18.56 5.44l.94 2.06.94-2.06 2.06-.94-2.06-.94-.94-2.06-.94 2.06-2.06.94zm-11 1L8.5 8.5l.94-2.06 2.06-.94-2.06-.94L8.5 2.5l-.94 2.06-2.06.94zm10 10l.94 2.06.94-2.06 2.06-.94-2.06-.94-.94-2.06-.94 2.06-2.06.94z\"/><path d=\"M17.41 7.96l-1.37-1.37c-.4-.4-.92-.59-1.43-.59-.52 0-1.04.2-1.43.59L10.3 9.45l-7.72 7.72c-.78.78-.78 2.05 0 2.83L4 21.41c.39.39.9.59 1.41.59.51 0 1.02-.2 1.41-.59l7.78-7.78 2.81-2.81c.8-.78.8-2.07 0-2.86zM5.41 20L4 18.59l7.72-7.72 1.47 1.35L5.41 20z\"/>\n",
              "  </svg>\n",
              "      </button>\n",
              "      \n",
              "  <style>\n",
              "    .colab-df-container {\n",
              "      display:flex;\n",
              "      flex-wrap:wrap;\n",
              "      gap: 12px;\n",
              "    }\n",
              "\n",
              "    .colab-df-convert {\n",
              "      background-color: #E8F0FE;\n",
              "      border: none;\n",
              "      border-radius: 50%;\n",
              "      cursor: pointer;\n",
              "      display: none;\n",
              "      fill: #1967D2;\n",
              "      height: 32px;\n",
              "      padding: 0 0 0 0;\n",
              "      width: 32px;\n",
              "    }\n",
              "\n",
              "    .colab-df-convert:hover {\n",
              "      background-color: #E2EBFA;\n",
              "      box-shadow: 0px 1px 2px rgba(60, 64, 67, 0.3), 0px 1px 3px 1px rgba(60, 64, 67, 0.15);\n",
              "      fill: #174EA6;\n",
              "    }\n",
              "\n",
              "    [theme=dark] .colab-df-convert {\n",
              "      background-color: #3B4455;\n",
              "      fill: #D2E3FC;\n",
              "    }\n",
              "\n",
              "    [theme=dark] .colab-df-convert:hover {\n",
              "      background-color: #434B5C;\n",
              "      box-shadow: 0px 1px 3px 1px rgba(0, 0, 0, 0.15);\n",
              "      filter: drop-shadow(0px 1px 2px rgba(0, 0, 0, 0.3));\n",
              "      fill: #FFFFFF;\n",
              "    }\n",
              "  </style>\n",
              "\n",
              "      <script>\n",
              "        const buttonEl =\n",
              "          document.querySelector('#df-78a0b0a2-bcd6-47e8-8330-ec4300bc0e22 button.colab-df-convert');\n",
              "        buttonEl.style.display =\n",
              "          google.colab.kernel.accessAllowed ? 'block' : 'none';\n",
              "\n",
              "        async function convertToInteractive(key) {\n",
              "          const element = document.querySelector('#df-78a0b0a2-bcd6-47e8-8330-ec4300bc0e22');\n",
              "          const dataTable =\n",
              "            await google.colab.kernel.invokeFunction('convertToInteractive',\n",
              "                                                     [key], {});\n",
              "          if (!dataTable) return;\n",
              "\n",
              "          const docLinkHtml = 'Like what you see? Visit the ' +\n",
              "            '<a target=\"_blank\" href=https://colab.research.google.com/notebooks/data_table.ipynb>data table notebook</a>'\n",
              "            + ' to learn more about interactive tables.';\n",
              "          element.innerHTML = '';\n",
              "          dataTable['output_type'] = 'display_data';\n",
              "          await google.colab.output.renderOutput(dataTable, element);\n",
              "          const docLink = document.createElement('div');\n",
              "          docLink.innerHTML = docLinkHtml;\n",
              "          element.appendChild(docLink);\n",
              "        }\n",
              "      </script>\n",
              "    </div>\n",
              "  </div>\n",
              "  "
            ]
          },
          "metadata": {},
          "execution_count": 6
        }
      ]
    },
    {
      "cell_type": "code",
      "source": [
        "# Cantidad de vacunas aplicadas en todo el mundo\n",
        "cv['total_vaccinations'].sum()"
      ],
      "metadata": {
        "colab": {
          "base_uri": "https://localhost:8080/"
        },
        "id": "tMeU5U_d-3vw",
        "outputId": "a993cc61-0ace-4fcb-cc9f-e9445f7b2daf"
      },
      "execution_count": 7,
      "outputs": [
        {
          "output_type": "execute_result",
          "data": {
            "text/plain": [
              "2602242783.0"
            ]
          },
          "metadata": {},
          "execution_count": 7
        }
      ]
    },
    {
      "cell_type": "code",
      "source": [
        "# Promedio de vacunas aplicadas por país\n",
        "cv[['country','total_vaccinations']].groupby('country').mean()"
      ],
      "metadata": {
        "colab": {
          "base_uri": "https://localhost:8080/",
          "height": 455
        },
        "id": "NrLRys1q_A_H",
        "outputId": "d1c229e4-6569-401c-9811-bc92378e24e0"
      },
      "execution_count": 8,
      "outputs": [
        {
          "output_type": "execute_result",
          "data": {
            "text/plain": [
              "                          total_vaccinations\n",
              "country                                     \n",
              "Albania                         4.106923e+02\n",
              "Algeria                         1.500000e+01\n",
              "Andorra                         9.676667e+02\n",
              "Anguilla                        6.705000e+02\n",
              "Argentina                       3.355479e+05\n",
              "...                                      ...\n",
              "Turks and Caicos Islands        3.216500e+03\n",
              "United Arab Emirates            2.681180e+06\n",
              "United Kingdom                  7.450718e+06\n",
              "United States                   2.131574e+07\n",
              "Wales                           3.317685e+05\n",
              "\n",
              "[90 rows x 1 columns]"
            ],
            "text/html": [
              "\n",
              "  <div id=\"df-5a4deaea-f763-4b0c-b574-daba4672ef58\">\n",
              "    <div class=\"colab-df-container\">\n",
              "      <div>\n",
              "<style scoped>\n",
              "    .dataframe tbody tr th:only-of-type {\n",
              "        vertical-align: middle;\n",
              "    }\n",
              "\n",
              "    .dataframe tbody tr th {\n",
              "        vertical-align: top;\n",
              "    }\n",
              "\n",
              "    .dataframe thead th {\n",
              "        text-align: right;\n",
              "    }\n",
              "</style>\n",
              "<table border=\"1\" class=\"dataframe\">\n",
              "  <thead>\n",
              "    <tr style=\"text-align: right;\">\n",
              "      <th></th>\n",
              "      <th>total_vaccinations</th>\n",
              "    </tr>\n",
              "    <tr>\n",
              "      <th>country</th>\n",
              "      <th></th>\n",
              "    </tr>\n",
              "  </thead>\n",
              "  <tbody>\n",
              "    <tr>\n",
              "      <th>Albania</th>\n",
              "      <td>4.106923e+02</td>\n",
              "    </tr>\n",
              "    <tr>\n",
              "      <th>Algeria</th>\n",
              "      <td>1.500000e+01</td>\n",
              "    </tr>\n",
              "    <tr>\n",
              "      <th>Andorra</th>\n",
              "      <td>9.676667e+02</td>\n",
              "    </tr>\n",
              "    <tr>\n",
              "      <th>Anguilla</th>\n",
              "      <td>6.705000e+02</td>\n",
              "    </tr>\n",
              "    <tr>\n",
              "      <th>Argentina</th>\n",
              "      <td>3.355479e+05</td>\n",
              "    </tr>\n",
              "    <tr>\n",
              "      <th>...</th>\n",
              "      <td>...</td>\n",
              "    </tr>\n",
              "    <tr>\n",
              "      <th>Turks and Caicos Islands</th>\n",
              "      <td>3.216500e+03</td>\n",
              "    </tr>\n",
              "    <tr>\n",
              "      <th>United Arab Emirates</th>\n",
              "      <td>2.681180e+06</td>\n",
              "    </tr>\n",
              "    <tr>\n",
              "      <th>United Kingdom</th>\n",
              "      <td>7.450718e+06</td>\n",
              "    </tr>\n",
              "    <tr>\n",
              "      <th>United States</th>\n",
              "      <td>2.131574e+07</td>\n",
              "    </tr>\n",
              "    <tr>\n",
              "      <th>Wales</th>\n",
              "      <td>3.317685e+05</td>\n",
              "    </tr>\n",
              "  </tbody>\n",
              "</table>\n",
              "<p>90 rows × 1 columns</p>\n",
              "</div>\n",
              "      <button class=\"colab-df-convert\" onclick=\"convertToInteractive('df-5a4deaea-f763-4b0c-b574-daba4672ef58')\"\n",
              "              title=\"Convert this dataframe to an interactive table.\"\n",
              "              style=\"display:none;\">\n",
              "        \n",
              "  <svg xmlns=\"http://www.w3.org/2000/svg\" height=\"24px\"viewBox=\"0 0 24 24\"\n",
              "       width=\"24px\">\n",
              "    <path d=\"M0 0h24v24H0V0z\" fill=\"none\"/>\n",
              "    <path d=\"M18.56 5.44l.94 2.06.94-2.06 2.06-.94-2.06-.94-.94-2.06-.94 2.06-2.06.94zm-11 1L8.5 8.5l.94-2.06 2.06-.94-2.06-.94L8.5 2.5l-.94 2.06-2.06.94zm10 10l.94 2.06.94-2.06 2.06-.94-2.06-.94-.94-2.06-.94 2.06-2.06.94z\"/><path d=\"M17.41 7.96l-1.37-1.37c-.4-.4-.92-.59-1.43-.59-.52 0-1.04.2-1.43.59L10.3 9.45l-7.72 7.72c-.78.78-.78 2.05 0 2.83L4 21.41c.39.39.9.59 1.41.59.51 0 1.02-.2 1.41-.59l7.78-7.78 2.81-2.81c.8-.78.8-2.07 0-2.86zM5.41 20L4 18.59l7.72-7.72 1.47 1.35L5.41 20z\"/>\n",
              "  </svg>\n",
              "      </button>\n",
              "      \n",
              "  <style>\n",
              "    .colab-df-container {\n",
              "      display:flex;\n",
              "      flex-wrap:wrap;\n",
              "      gap: 12px;\n",
              "    }\n",
              "\n",
              "    .colab-df-convert {\n",
              "      background-color: #E8F0FE;\n",
              "      border: none;\n",
              "      border-radius: 50%;\n",
              "      cursor: pointer;\n",
              "      display: none;\n",
              "      fill: #1967D2;\n",
              "      height: 32px;\n",
              "      padding: 0 0 0 0;\n",
              "      width: 32px;\n",
              "    }\n",
              "\n",
              "    .colab-df-convert:hover {\n",
              "      background-color: #E2EBFA;\n",
              "      box-shadow: 0px 1px 2px rgba(60, 64, 67, 0.3), 0px 1px 3px 1px rgba(60, 64, 67, 0.15);\n",
              "      fill: #174EA6;\n",
              "    }\n",
              "\n",
              "    [theme=dark] .colab-df-convert {\n",
              "      background-color: #3B4455;\n",
              "      fill: #D2E3FC;\n",
              "    }\n",
              "\n",
              "    [theme=dark] .colab-df-convert:hover {\n",
              "      background-color: #434B5C;\n",
              "      box-shadow: 0px 1px 3px 1px rgba(0, 0, 0, 0.15);\n",
              "      filter: drop-shadow(0px 1px 2px rgba(0, 0, 0, 0.3));\n",
              "      fill: #FFFFFF;\n",
              "    }\n",
              "  </style>\n",
              "\n",
              "      <script>\n",
              "        const buttonEl =\n",
              "          document.querySelector('#df-5a4deaea-f763-4b0c-b574-daba4672ef58 button.colab-df-convert');\n",
              "        buttonEl.style.display =\n",
              "          google.colab.kernel.accessAllowed ? 'block' : 'none';\n",
              "\n",
              "        async function convertToInteractive(key) {\n",
              "          const element = document.querySelector('#df-5a4deaea-f763-4b0c-b574-daba4672ef58');\n",
              "          const dataTable =\n",
              "            await google.colab.kernel.invokeFunction('convertToInteractive',\n",
              "                                                     [key], {});\n",
              "          if (!dataTable) return;\n",
              "\n",
              "          const docLinkHtml = 'Like what you see? Visit the ' +\n",
              "            '<a target=\"_blank\" href=https://colab.research.google.com/notebooks/data_table.ipynb>data table notebook</a>'\n",
              "            + ' to learn more about interactive tables.';\n",
              "          element.innerHTML = '';\n",
              "          dataTable['output_type'] = 'display_data';\n",
              "          await google.colab.output.renderOutput(dataTable, element);\n",
              "          const docLink = document.createElement('div');\n",
              "          docLink.innerHTML = docLinkHtml;\n",
              "          element.appendChild(docLink);\n",
              "        }\n",
              "      </script>\n",
              "    </div>\n",
              "  </div>\n",
              "  "
            ]
          },
          "metadata": {},
          "execution_count": 8
        }
      ]
    },
    {
      "cell_type": "code",
      "source": [
        "# Cantidad de vacunas aplicadas el día 29/01/21 en todo el mundo\n",
        "Jan29=cv.loc[cv['date']=='2021-01-29']\n",
        "Jan29['total_vaccinations'].sum()"
      ],
      "metadata": {
        "colab": {
          "base_uri": "https://localhost:8080/"
        },
        "id": "HOtFb81T_OQM",
        "outputId": "80dafe89-1e91-4a80-c444-bd5ab370e4bb"
      },
      "execution_count": 11,
      "outputs": [
        {
          "output_type": "execute_result",
          "data": {
            "text/plain": [
              "74388085.0"
            ]
          },
          "metadata": {},
          "execution_count": 11
        }
      ]
    },
    {
      "cell_type": "code",
      "source": [
        "# DataFrame conDiferencias\n",
        "conDiferencias=cv\n",
        "conDiferencias['diferencias']=conDiferencias['daily_vaccinations']-conDiferencias['daily_vaccinations_raw']"
      ],
      "metadata": {
        "id": "syW38i0tAhVI"
      },
      "execution_count": 12,
      "outputs": []
    },
    {
      "cell_type": "code",
      "source": [
        "print(conDiferencias['diferencias'].head())"
      ],
      "metadata": {
        "colab": {
          "base_uri": "https://localhost:8080/"
        },
        "id": "T4xlU6RLBobC",
        "outputId": "03643865-3551-4888-dc11-d3c644445e9e"
      },
      "execution_count": 13,
      "outputs": [
        {
          "output_type": "stream",
          "name": "stdout",
          "text": [
            "0     NaN\n",
            "1     NaN\n",
            "2     NaN\n",
            "3     3.0\n",
            "4   -12.0\n",
            "Name: diferencias, dtype: float64\n"
          ]
        }
      ]
    },
    {
      "cell_type": "code",
      "source": [
        "# Periodo de tiempo entre fecha más reciente y más antigua\n",
        "cv['date'].max()-cv['date'].min()"
      ],
      "metadata": {
        "colab": {
          "base_uri": "https://localhost:8080/"
        },
        "id": "vzSNBYH8Bu3t",
        "outputId": "eb982b22-fc62-4d2c-e985-12c7ca03c7c2"
      },
      "execution_count": 14,
      "outputs": [
        {
          "output_type": "execute_result",
          "data": {
            "text/plain": [
              "Timedelta('62 days 00:00:00')"
            ]
          },
          "metadata": {},
          "execution_count": 14
        }
      ]
    },
    {
      "cell_type": "code",
      "source": [
        "# DataFrame conCantidad\n",
        "conCantidad=cv \n",
        "conCantidad['canVac']=conCantidad['vaccines'].str.split(', ').str.len()"
      ],
      "metadata": {
        "id": "K_9S_AKnCD-X"
      },
      "execution_count": 15,
      "outputs": []
    },
    {
      "cell_type": "code",
      "source": [
        "print(conCantidad['canVac'])"
      ],
      "metadata": {
        "colab": {
          "base_uri": "https://localhost:8080/"
        },
        "id": "l9Fg280pC7Ho",
        "outputId": "e40e9ca4-b8f8-4e7e-a29c-aedc81c358c3"
      },
      "execution_count": 17,
      "outputs": [
        {
          "output_type": "stream",
          "name": "stdout",
          "text": [
            "0       1\n",
            "1       1\n",
            "2       1\n",
            "3       1\n",
            "4       1\n",
            "       ..\n",
            "3076    2\n",
            "3077    2\n",
            "3078    2\n",
            "3079    2\n",
            "3080    2\n",
            "Name: canVac, Length: 3081, dtype: int64\n"
          ]
        }
      ]
    },
    {
      "cell_type": "code",
      "source": [
        "#DataFrame antes20\n",
        "antes20=cv.loc[cv['date']<'2020-12-20']\n",
        "print(antes20.head())"
      ],
      "metadata": {
        "colab": {
          "base_uri": "https://localhost:8080/"
        },
        "id": "miKS64h6D6Zs",
        "outputId": "962326fa-22ee-44ad-afa5-9a0b2cc29cd8"
      },
      "execution_count": 20,
      "outputs": [
        {
          "output_type": "stream",
          "name": "stdout",
          "text": [
            "    country iso_code       date  total_vaccinations  people_vaccinated  \\\n",
            "406  Canada      CAN 2020-12-19                 NaN             8734.0   \n",
            "543   China      CHN 2020-12-15           1500000.0                NaN   \n",
            "544   China      CHN 2020-12-16                 NaN                NaN   \n",
            "545   China      CHN 2020-12-17                 NaN                NaN   \n",
            "546   China      CHN 2020-12-18                 NaN                NaN   \n",
            "\n",
            "     people_fully_vaccinated  daily_vaccinations_raw  daily_vaccinations  \\\n",
            "406                      NaN                     NaN                 NaN   \n",
            "543                      NaN                     NaN                 NaN   \n",
            "544                      NaN                     NaN            187500.0   \n",
            "545                      NaN                     NaN            187500.0   \n",
            "546                      NaN                     NaN            187500.0   \n",
            "\n",
            "     total_vaccinations_per_hundred  people_vaccinated_per_hundred  \\\n",
            "406                             NaN                           0.02   \n",
            "543                             0.1                            NaN   \n",
            "544                             NaN                            NaN   \n",
            "545                             NaN                            NaN   \n",
            "546                             NaN                            NaN   \n",
            "\n",
            "     people_fully_vaccinated_per_hundred  daily_vaccinations_per_million  \\\n",
            "406                                  NaN                             NaN   \n",
            "543                                  NaN                             NaN   \n",
            "544                                  NaN                           130.0   \n",
            "545                                  NaN                           130.0   \n",
            "546                                  NaN                           130.0   \n",
            "\n",
            "                                        vaccines                 source_name  \\\n",
            "406                     Moderna, Pfizer/BioNTech        Government of Canada   \n",
            "543  Sinopharm/Beijing, Sinopharm/Wuhan, Sinovac  National Health Commission   \n",
            "544  Sinopharm/Beijing, Sinopharm/Wuhan, Sinovac  National Health Commission   \n",
            "545  Sinopharm/Beijing, Sinopharm/Wuhan, Sinovac  National Health Commission   \n",
            "546  Sinopharm/Beijing, Sinopharm/Wuhan, Sinovac  National Health Commission   \n",
            "\n",
            "                                        source_website  diferencias  canVac  \n",
            "406  https://health-infobase.canada.ca/covid-19/vac...          NaN       2  \n",
            "543  https://www.reuters.com/article/health-coronav...          NaN       3  \n",
            "544  https://www.reuters.com/article/health-coronav...          NaN       3  \n",
            "545  https://www.reuters.com/article/health-coronav...          NaN       3  \n",
            "546  https://www.reuters.com/article/health-coronav...          NaN       3  \n"
          ]
        }
      ]
    },
    {
      "cell_type": "code",
      "source": [
        "#DataFrame Pfizer\n",
        "pfizer=cv[cv['vaccines'].str.contains('pfizer',case=False)]\n",
        "print(pfizer.head())"
      ],
      "metadata": {
        "colab": {
          "base_uri": "https://localhost:8080/"
        },
        "id": "f9kdM81xEQIA",
        "outputId": "f1441ade-1554-42f8-be91-feadea0da25c"
      },
      "execution_count": 23,
      "outputs": [
        {
          "output_type": "stream",
          "name": "stdout",
          "text": [
            "   country iso_code       date  total_vaccinations  people_vaccinated  \\\n",
            "0  Albania      ALB 2021-01-10                 0.0                0.0   \n",
            "1  Albania      ALB 2021-01-11                 NaN                NaN   \n",
            "2  Albania      ALB 2021-01-12               128.0              128.0   \n",
            "3  Albania      ALB 2021-01-13               188.0              188.0   \n",
            "4  Albania      ALB 2021-01-14               266.0              266.0   \n",
            "\n",
            "   people_fully_vaccinated  daily_vaccinations_raw  daily_vaccinations  \\\n",
            "0                      NaN                     NaN                 NaN   \n",
            "1                      NaN                     NaN                64.0   \n",
            "2                      NaN                     NaN                64.0   \n",
            "3                      NaN                    60.0                63.0   \n",
            "4                      NaN                    78.0                66.0   \n",
            "\n",
            "   total_vaccinations_per_hundred  people_vaccinated_per_hundred  \\\n",
            "0                            0.00                           0.00   \n",
            "1                             NaN                            NaN   \n",
            "2                            0.00                           0.00   \n",
            "3                            0.01                           0.01   \n",
            "4                            0.01                           0.01   \n",
            "\n",
            "   people_fully_vaccinated_per_hundred  daily_vaccinations_per_million  \\\n",
            "0                                  NaN                             NaN   \n",
            "1                                  NaN                            22.0   \n",
            "2                                  NaN                            22.0   \n",
            "3                                  NaN                            22.0   \n",
            "4                                  NaN                            23.0   \n",
            "\n",
            "          vaccines         source_name  \\\n",
            "0  Pfizer/BioNTech  Ministry of Health   \n",
            "1  Pfizer/BioNTech  Ministry of Health   \n",
            "2  Pfizer/BioNTech  Ministry of Health   \n",
            "3  Pfizer/BioNTech  Ministry of Health   \n",
            "4  Pfizer/BioNTech  Ministry of Health   \n",
            "\n",
            "                                      source_website  diferencias  canVac  \n",
            "0  https://shendetesia.gov.al/vaksinimi-anticovid...          NaN       1  \n",
            "1  https://shendetesia.gov.al/vaksinimi-anticovid...          NaN       1  \n",
            "2  https://shendetesia.gov.al/vaksinimi-anticovid...          NaN       1  \n",
            "3  https://shendetesia.gov.al/vaksinimi-anticovid...          3.0       1  \n",
            "4  https://shendetesia.gov.al/vaksinimi-anticovid...        -12.0       1  \n"
          ]
        }
      ]
    },
    {
      "cell_type": "code",
      "source": [
        "# Guardando en Excel\n",
        "conDiferencias.to_excel('content/resultadosReto.xlsx',sheet_name='conDiferencias')\n",
        "conCantidad.to_excel('content/resultadosReto.xlsx',sheet_name='conCantidad')\n",
        "antes20.to_excel('content/resultadosReto.xlsx',sheet_name='antes20')\n",
        "pfizer.to_excel('content/resultadosReto.xlsx',sheet_name='pfizer')\n"
      ],
      "metadata": {
        "id": "OcOFnHjMEmp5"
      },
      "execution_count": null,
      "outputs": []
    }
  ]
}